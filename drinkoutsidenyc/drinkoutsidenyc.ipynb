{
 "cells": [
  {
   "cell_type": "markdown",
   "id": "0f3a5f0f",
   "metadata": {},
   "source": [
    "# Notebook Illustrating Data ETL for Webapp\n",
    "- Utilizing NYC Open Data with Socrata (SODA API)"
   ]
  },
  {
   "cell_type": "code",
   "execution_count": 1,
   "id": "b8435160",
   "metadata": {
    "ExecuteTime": {
     "end_time": "2021-05-20T00:46:49.785387Z",
     "start_time": "2021-05-20T00:46:48.134449Z"
    }
   },
   "outputs": [],
   "source": [
    "import pandas as pd\n",
    "from sodapy import Socrata\n",
    "from configparser import ConfigParser\n",
    "\n",
    "pd.set_option('display.max_columns', 100)"
   ]
  },
  {
   "cell_type": "markdown",
   "id": "e2d50d1f",
   "metadata": {},
   "source": [
    "## SODA API\n",
    "- Get API Token utilizing ```configparser```\n",
    "    - Config file as \"hidden\" ```.ini``` file\n",
    "- Create connection to Socrata with ```sodapy```\n",
    "    - Parameters: domain, API Token\n",
    "- Make SoQL query with ```sodapy```\n",
    "    - Dataset identifier: ```pitm-atqc```\n",
    "    - Only retrieve establishments with SLA License and sidewalk/openstreets/roadway seating"
   ]
  },
  {
   "cell_type": "code",
   "execution_count": 2,
   "id": "5c433449",
   "metadata": {
    "ExecuteTime": {
     "end_time": "2021-05-20T00:46:51.957379Z",
     "start_time": "2021-05-20T00:46:50.303711Z"
    }
   },
   "outputs": [],
   "source": [
    "# API Configuration\n",
    "config = ConfigParser()\n",
    "config.read('./.ini')\n",
    "TOKEN = config.get('Socrata', 'DRINK_NYC_TOKEN')\n",
    "\n",
    "# Connect to Socrata API\n",
    "client = Socrata('data.cityofnewyork.us', TOKEN)\n",
    "\n",
    "# Make query for establishments serving alcohol\n",
    "results = client.get('pitm-atqc', where='qualify_alcohol=\"yes\"', limit=50000)"
   ]
  },
  {
   "cell_type": "code",
   "execution_count": 4,
   "id": "dad11f41",
   "metadata": {
    "ExecuteTime": {
     "end_time": "2021-05-20T00:52:45.543966Z",
     "start_time": "2021-05-20T00:52:45.540598Z"
    }
   },
   "outputs": [
    {
     "name": "stdout",
     "output_type": "stream",
     "text": [
      "Number of establishments: 8403\n"
     ]
    }
   ],
   "source": [
    "print('Number of establishments:', len(results))"
   ]
  },
  {
   "cell_type": "code",
   "execution_count": 6,
   "id": "820ddad2",
   "metadata": {
    "ExecuteTime": {
     "end_time": "2021-05-20T00:53:20.162193Z",
     "start_time": "2021-05-20T00:53:20.156693Z"
    }
   },
   "outputs": [
    {
     "data": {
      "text/plain": [
       "list"
      ]
     },
     "execution_count": 6,
     "metadata": {},
     "output_type": "execute_result"
    }
   ],
   "source": [
    "type(results)"
   ]
  },
  {
   "cell_type": "code",
   "execution_count": 9,
   "id": "81632bed",
   "metadata": {
    "ExecuteTime": {
     "end_time": "2021-05-20T00:24:03.748032Z",
     "start_time": "2021-05-20T00:24:03.658415Z"
    }
   },
   "outputs": [],
   "source": [
    "df = pd.DataFrame(results)\n",
    "df['time_of_submission'] = pd.to_datetime(df['time_of_submission'])"
   ]
  },
  {
   "cell_type": "code",
   "execution_count": 12,
   "id": "4bba17aa",
   "metadata": {
    "ExecuteTime": {
     "end_time": "2021-05-20T00:24:10.496877Z",
     "start_time": "2021-05-20T00:24:10.434106Z"
    }
   },
   "outputs": [],
   "source": [
    "latest_est = df.sort_values('time_of_submission', ascending=False).iloc[0]['time_of_submission']"
   ]
  },
  {
   "cell_type": "code",
   "execution_count": 11,
   "id": "dd51038e",
   "metadata": {
    "ExecuteTime": {
     "end_time": "2021-05-20T00:24:12.389725Z",
     "start_time": "2021-05-20T00:24:12.347447Z"
    }
   },
   "outputs": [
    {
     "name": "stdout",
     "output_type": "stream",
     "text": [
      "<class 'pandas.core.frame.DataFrame'>\n",
      "RangeIndex: 8403 entries, 0 to 8402\n",
      "Data columns (total 35 columns):\n",
      " #   Column                         Non-Null Count  Dtype         \n",
      "---  ------                         --------------  -----         \n",
      " 0   objectid                       8403 non-null   object        \n",
      " 1   globalid                       8403 non-null   object        \n",
      " 2   seating_interest_sidewalk      8403 non-null   object        \n",
      " 3   restaurant_name                8403 non-null   object        \n",
      " 4   legal_business_name            8403 non-null   object        \n",
      " 5   doing_business_as_dba          8403 non-null   object        \n",
      " 6   bulding_number                 8403 non-null   object        \n",
      " 7   street                         8403 non-null   object        \n",
      " 8   borough                        8403 non-null   object        \n",
      " 9   zip                            8403 non-null   object        \n",
      " 10  business_address               8403 non-null   object        \n",
      " 11  food_service_establishment     8402 non-null   object        \n",
      " 12  roadway_dimensions_length      5743 non-null   object        \n",
      " 13  roadway_dimensions_width       5743 non-null   object        \n",
      " 14  roadway_dimensions_area        5743 non-null   object        \n",
      " 15  approved_for_sidewalk_seating  8403 non-null   object        \n",
      " 16  approved_for_roadway_seating   8403 non-null   object        \n",
      " 17  qualify_alcohol                8403 non-null   object        \n",
      " 18  sla_serial_number              8403 non-null   object        \n",
      " 19  sla_license_type               8403 non-null   object        \n",
      " 20  landmark_district_or_building  8403 non-null   object        \n",
      " 21  healthcompliance_terms         8403 non-null   object        \n",
      " 22  time_of_submission             8403 non-null   datetime64[ns]\n",
      " 23  latitude                       7526 non-null   object        \n",
      " 24  longitude                      7526 non-null   object        \n",
      " 25  community_board                7526 non-null   object        \n",
      " 26  council_district               7526 non-null   object        \n",
      " 27  census_tract                   7526 non-null   object        \n",
      " 28  bin                            7478 non-null   object        \n",
      " 29  bbl                            7478 non-null   object        \n",
      " 30  nta                            7526 non-null   object        \n",
      " 31  sidewalk_dimensions_length     7035 non-null   object        \n",
      " 32  sidewalk_dimensions_width      7035 non-null   object        \n",
      " 33  sidewalk_dimensions_area       7035 non-null   object        \n",
      " 34  landmarkdistrict_terms         1407 non-null   object        \n",
      "dtypes: datetime64[ns](1), object(34)\n",
      "memory usage: 2.2+ MB\n"
     ]
    }
   ],
   "source": []
  },
  {
   "cell_type": "code",
   "execution_count": null,
   "id": "01756ca4",
   "metadata": {},
   "outputs": [],
   "source": []
  }
 ],
 "metadata": {
  "kernelspec": {
   "display_name": "nycdata",
   "language": "python",
   "name": "nycdata"
  },
  "language_info": {
   "codemirror_mode": {
    "name": "ipython",
    "version": 3
   },
   "file_extension": ".py",
   "mimetype": "text/x-python",
   "name": "python",
   "nbconvert_exporter": "python",
   "pygments_lexer": "ipython3",
   "version": "3.9.4"
  },
  "toc": {
   "base_numbering": 1,
   "nav_menu": {},
   "number_sections": true,
   "sideBar": true,
   "skip_h1_title": false,
   "title_cell": "Table of Contents",
   "title_sidebar": "Contents",
   "toc_cell": false,
   "toc_position": {},
   "toc_section_display": true,
   "toc_window_display": false
  }
 },
 "nbformat": 4,
 "nbformat_minor": 5
}
