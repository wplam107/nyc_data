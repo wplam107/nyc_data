{
 "cells": [
  {
   "cell_type": "markdown",
   "id": "0f3a5f0f",
   "metadata": {},
   "source": [
    "# Notebook Illustrating Initial Database ETL for Webapp\n",
    "- Database Creation and Initial ETL Script: ```db.py```\n",
    "- ETL Script: ```etl.py```\n",
    "- SOQL Queries: ```soql_queries.py```\n",
    "- Misc. ETL Functions: ```etl_functions.py```\n",
    "- Database Models: ```models.py``` (note: functions have been refactored for ETL)\n",
    "- NYC Open Data with Socrata (SODA API) for Drink Outside NYC Webapp\n",
    "- Google Cloud Maps Geocoding API "
   ]
  },
  {
   "cell_type": "markdown",
   "id": "e2d50d1f",
   "metadata": {},
   "source": [
    "## SODA API\n",
    "- Get API Token utilizing ```configparser```\n",
    "    - Config file as \"hidden\" ```.ini``` file\n",
    "- Create connection to Socrata with ```sodapy```\n",
    "    - Parameters: domain, API Token\n",
    "- Make SoQL query with ```sodapy```\n",
    "    - Dataset identifier: ```pitm-atqc```\n",
    "    - Only retrieve establishments with SLA License and sidewalk/openstreets/roadway seating"
   ]
  },
  {
   "cell_type": "code",
   "execution_count": 1,
   "id": "847de87e",
   "metadata": {
    "ExecuteTime": {
     "end_time": "2021-05-24T16:23:15.256097Z",
     "start_time": "2021-05-24T16:23:15.118486Z"
    }
   },
   "outputs": [],
   "source": [
    "from sodapy import Socrata\n",
    "from configparser import ConfigParser"
   ]
  },
  {
   "cell_type": "code",
   "execution_count": 2,
   "id": "4e876350",
   "metadata": {
    "ExecuteTime": {
     "end_time": "2021-05-24T16:23:16.235623Z",
     "start_time": "2021-05-24T16:23:15.260316Z"
    }
   },
   "outputs": [
    {
     "name": "stdout",
     "output_type": "stream",
     "text": [
      "Number of establishments: 8411\n"
     ]
    }
   ],
   "source": [
    "# API Configuration\n",
    "config = ConfigParser()\n",
    "config.read('./.ini')\n",
    "TOKEN = config.get('Socrata', 'DRINK_NYC_TOKEN')\n",
    "\n",
    "# Connect to Socrata API\n",
    "client = Socrata('data.cityofnewyork.us', TOKEN)\n",
    "\n",
    "# Make query for establishments serving alcohol\n",
    "results = client.get('pitm-atqc', where='qualify_alcohol=\"yes\"', limit=50000)\n",
    "\n",
    "print('Number of establishments:', len(results))"
   ]
  },
  {
   "cell_type": "code",
   "execution_count": 3,
   "id": "d4a979c6",
   "metadata": {
    "ExecuteTime": {
     "end_time": "2021-05-24T16:23:16.243071Z",
     "start_time": "2021-05-24T16:23:16.239378Z"
    }
   },
   "outputs": [
    {
     "name": "stdout",
     "output_type": "stream",
     "text": [
      "KARIZMA LOUNGE CORP\n"
     ]
    }
   ],
   "source": [
    "# Sample\n",
    "print(results[10]['doing_business_as_dba'])"
   ]
  },
  {
   "cell_type": "markdown",
   "id": "a1532652",
   "metadata": {},
   "source": [
    "## Google Cloud Map Platform (Geocoding)\n",
    "- Retrieve and merge missing latitude and longitude data onto ```results```"
   ]
  },
  {
   "cell_type": "code",
   "execution_count": 4,
   "id": "869eb7ec",
   "metadata": {
    "ExecuteTime": {
     "end_time": "2021-05-24T16:23:16.254762Z",
     "start_time": "2021-05-24T16:23:16.245792Z"
    }
   },
   "outputs": [
    {
     "name": "stdout",
     "output_type": "stream",
     "text": [
      "Number of establishments without geolocation: 877\n"
     ]
    }
   ],
   "source": [
    "# Create list of establishments without latitude/longitude\n",
    "missing_loc = [ r for r in results if 'latitude' not in r.keys() ]\n",
    "\n",
    "print('Number of establishments without geolocation:', len(missing_loc))"
   ]
  },
  {
   "cell_type": "code",
   "execution_count": 5,
   "id": "34c28a8b",
   "metadata": {
    "ExecuteTime": {
     "end_time": "2021-05-24T16:23:16.260212Z",
     "start_time": "2021-05-24T16:23:16.256811Z"
    }
   },
   "outputs": [],
   "source": [
    "import requests"
   ]
  },
  {
   "cell_type": "code",
   "execution_count": 6,
   "id": "1a6845e9",
   "metadata": {
    "ExecuteTime": {
     "end_time": "2021-05-24T16:23:16.267966Z",
     "start_time": "2021-05-24T16:23:16.263894Z"
    }
   },
   "outputs": [],
   "source": [
    "# Set maps API key\n",
    "MAPS_API_KEY = config.get('GCP', 'API_KEY')"
   ]
  },
  {
   "cell_type": "code",
   "execution_count": 7,
   "id": "71e5795a",
   "metadata": {
    "ExecuteTime": {
     "end_time": "2021-05-24T16:23:16.278897Z",
     "start_time": "2021-05-24T16:23:16.271588Z"
    }
   },
   "outputs": [],
   "source": [
    "def _get_lat_lng(address):\n",
    "    '''\n",
    "    Function to retrieve geolocation via Google Cloud Map Platform\n",
    "    '''\n",
    "    \n",
    "    base_url = 'https://maps.googleapis.com/maps/api/geocode/json?address='\n",
    "    address = '+'.join(address.split())\n",
    "    url = base_url + address + '&key=' + MAPS_API_KEY\n",
    "\n",
    "    r = requests.get(url)\n",
    "    \n",
    "    if r.status_code == 200:\n",
    "        result = r.json()\n",
    "        location = result['results'][0]['geometry']['location']\n",
    "        return location\n",
    "    \n",
    "    else:\n",
    "        return {'lat': None, 'lng': None}\n",
    "    \n",
    "def _merge_data(result):\n",
    "    '''\n",
    "    Function to retrieve and merge data onto establishment data \n",
    "    '''\n",
    "    \n",
    "    address = result['business_address']\n",
    "    location = _get_lat_lng(address)\n",
    "    \n",
    "    return location"
   ]
  },
  {
   "cell_type": "code",
   "execution_count": 8,
   "id": "9354afb3",
   "metadata": {
    "ExecuteTime": {
     "end_time": "2021-05-24T16:23:16.775918Z",
     "start_time": "2021-05-24T16:23:16.286266Z"
    }
   },
   "outputs": [
    {
     "name": "stdout",
     "output_type": "stream",
     "text": [
      "***Pre-data merge***: {'objectid': '3681', 'globalid': '{d13ac929-c53d-4298-8d8e-282e91866dbf}', 'seating_interest_sidewalk': 'roadway', 'restaurant_name': 'Tufino Pizzeria Napoletana', 'legal_business_name': 'Tufino Pizzeria Napoletana inc.', 'doing_business_as_dba': 'Tufino Pizzeria Napoletana inc.', 'bulding_number': '3608 3610', 'street': 'Ditmars Blvd', 'borough': 'Queens', 'zip': '11105', 'business_address': '3608 3610 Ditmars Blvd , Queens, NY', 'food_service_establishment': '41696092', 'roadway_dimensions_length': '20', 'roadway_dimensions_width': '8', 'roadway_dimensions_area': '160', 'approved_for_sidewalk_seating': 'no', 'approved_for_roadway_seating': 'yes', 'qualify_alcohol': 'yes', 'sla_serial_number': '1302285', 'sla_license_type': 'OP', 'landmark_district_or_building': 'no', 'healthcompliance_terms': 'yes', 'time_of_submission': '2020-06-22T14:26:00.000'}\n",
      "------------------------------\n",
      "***Post-data merge***: {'objectid': '3681', 'globalid': '{d13ac929-c53d-4298-8d8e-282e91866dbf}', 'seating_interest_sidewalk': 'roadway', 'restaurant_name': 'Tufino Pizzeria Napoletana', 'legal_business_name': 'Tufino Pizzeria Napoletana inc.', 'doing_business_as_dba': 'Tufino Pizzeria Napoletana inc.', 'bulding_number': '3608 3610', 'street': 'Ditmars Blvd', 'borough': 'Queens', 'zip': '11105', 'business_address': '3608 3610 Ditmars Blvd , Queens, NY', 'food_service_establishment': '41696092', 'roadway_dimensions_length': '20', 'roadway_dimensions_width': '8', 'roadway_dimensions_area': '160', 'approved_for_sidewalk_seating': 'no', 'approved_for_roadway_seating': 'yes', 'qualify_alcohol': 'yes', 'sla_serial_number': '1302285', 'sla_license_type': 'OP', 'landmark_district_or_building': 'no', 'healthcompliance_terms': 'yes', 'time_of_submission': '2020-06-22T14:26:00.000', 'latitude': 40.7739751, 'longitude': -73.9079885}\n"
     ]
    }
   ],
   "source": [
    "# Sample\n",
    "sample = missing_loc[10]\n",
    "print('***Pre-data merge***:', sample)\n",
    "print('-' * 30)\n",
    "\n",
    "# Sample data retrieval and update\n",
    "address = sample['business_address']\n",
    "location = _merge_data(sample)\n",
    "sample['latitude'] = location['lat']\n",
    "sample['longitude'] = location['lng']\n",
    "print('***Post-data merge***:', sample)"
   ]
  },
  {
   "cell_type": "markdown",
   "id": "0292f1d4",
   "metadata": {},
   "source": [
    "## Data Cleaning / Transformation\n",
    "- Create capacity estimates: 6'x6' per 4 person table with approx. 6' space between tables\n",
    "- Convert application submission string to datetime object\n",
    "- Remove irrelevant data"
   ]
  },
  {
   "cell_type": "code",
   "execution_count": 9,
   "id": "1b66bf44",
   "metadata": {
    "ExecuteTime": {
     "end_time": "2021-05-24T16:23:16.783336Z",
     "start_time": "2021-05-24T16:23:16.780506Z"
    }
   },
   "outputs": [],
   "source": [
    "import math\n",
    "from datetime import datetime"
   ]
  },
  {
   "cell_type": "code",
   "execution_count": 10,
   "id": "1595e5bb",
   "metadata": {
    "ExecuteTime": {
     "end_time": "2021-05-24T16:23:16.794125Z",
     "start_time": "2021-05-24T16:23:16.785520Z"
    }
   },
   "outputs": [],
   "source": [
    "def _est_capacity(result):\n",
    "    '''\n",
    "    Function to create capacity estimates\n",
    "    '''\n",
    "    \n",
    "    sidewalk = result['sidewalk']\n",
    "    roadway = result['roadway']\n",
    "    capacity = 0\n",
    "    \n",
    "    if sidewalk['status']:\n",
    "        l = round(sidewalk['length'] / 6)\n",
    "        if l % 2 != 0:\n",
    "            l = math.floor(l / 2) + 1\n",
    "        else:\n",
    "            l = math.floor(l / 2)\n",
    "            \n",
    "        w = round(sidewalk['width'] / 6)\n",
    "        if w % 2 != 0:\n",
    "            w = math.floor(w / 2) + 1\n",
    "        else: \n",
    "            w = math.floor(w / 2)\n",
    "            \n",
    "        capacity += l * w * 4\n",
    "    \n",
    "    if roadway['status']:\n",
    "        l = round(roadway['length'] / 6)\n",
    "        if l % 2 != 0:\n",
    "            l = math.floor(l / 2) + 1\n",
    "        else:\n",
    "            l = math.floor(l / 2)\n",
    "            \n",
    "        w = round(roadway['width'] / 6)\n",
    "        if w % 2 != 0:\n",
    "            w = math.floor(w / 2) + 1\n",
    "        else: \n",
    "            w = math.floor(w / 2)\n",
    "            \n",
    "        capacity += l * w * 4\n",
    "        \n",
    "        return capacity"
   ]
  },
  {
   "cell_type": "code",
   "execution_count": 11,
   "id": "f8925783",
   "metadata": {
    "ExecuteTime": {
     "end_time": "2021-05-24T16:23:16.808295Z",
     "start_time": "2021-05-24T16:23:16.796580Z"
    }
   },
   "outputs": [],
   "source": [
    "def clean_for_transformation(result):\n",
    "    '''\n",
    "    Function to clean establishment data into objects ready for further transformation\n",
    "    '''\n",
    "    \n",
    "    if 'latitude' not in result.keys():\n",
    "        _merge_data(result)\n",
    "        \n",
    "    establishment = {\n",
    "        '_id': result['globalid'].strip('{}'),\n",
    "        'name': result['doing_business_as_dba'],\n",
    "        'address': result['business_address'],\n",
    "        'zip': result['zip'],\n",
    "        'license': result['sla_license_type'],\n",
    "        'tos': datetime.strptime(result['time_of_submission'], '%Y-%m-%dT%H:%M:%S.%f'),\n",
    "        'lat': float(result['latitude']),\n",
    "        'lng': float(result['longitude']),\n",
    "        'sidewalk': {'status': False},\n",
    "        'roadway': {'status': False},\n",
    "        'openstreets': {'status': False}\n",
    "    }\n",
    "    \n",
    "    if result['approved_for_sidewalk_seating'] == 'yes':\n",
    "        establishment['sidewalk']['status'] = True\n",
    "        establishment['sidewalk']['length'] = int(result['sidewalk_dimensions_length'])\n",
    "        establishment['sidewalk']['width'] = int(result['sidewalk_dimensions_width'])\n",
    "        \n",
    "    if result['approved_for_roadway_seating'] == 'yes':\n",
    "        establishment['roadway']['status'] = True\n",
    "        establishment['roadway']['length'] = int(result['roadway_dimensions_length'])\n",
    "        establishment['roadway']['width'] = int(result['roadway_dimensions_width'])\n",
    "        \n",
    "    if result['seating_interest_sidewalk'] == 'openstreets':\n",
    "        establishment['openstreets']['status'] = True\n",
    "    \n",
    "    establishment['est_capacity'] = _est_capacity(establishment)\n",
    "    \n",
    "    return establishment"
   ]
  },
  {
   "cell_type": "code",
   "execution_count": 12,
   "id": "794719c8",
   "metadata": {
    "ExecuteTime": {
     "end_time": "2021-05-24T16:23:16.824439Z",
     "start_time": "2021-05-24T16:23:16.810539Z"
    }
   },
   "outputs": [
    {
     "data": {
      "text/plain": [
       "{'_id': 'F4FFE759-9440-444D-8301-D9674B698218',\n",
       " 'name': 'HERE ARTS CENTER',\n",
       " 'address': '145 AVENUE OF THE AMERICAS, Manhattan, NY',\n",
       " 'zip': '10013',\n",
       " 'license': 'RW',\n",
       " 'tos': datetime.datetime(2021, 4, 22, 14, 47),\n",
       " 'lat': 40.724971,\n",
       " 'lng': -74.004477,\n",
       " 'sidewalk': {'status': False},\n",
       " 'roadway': {'status': True, 'length': 40, 'width': 6},\n",
       " 'openstreets': {'status': False},\n",
       " 'est_capacity': 16}"
      ]
     },
     "execution_count": 12,
     "metadata": {},
     "output_type": "execute_result"
    }
   ],
   "source": [
    "# Sample\n",
    "sample = clean_for_transformation(results[0])\n",
    "sample"
   ]
  },
  {
   "cell_type": "markdown",
   "id": "0b0214e1",
   "metadata": {},
   "source": [
    "## Build Database\n",
    "- Establish connection to Google Firestore database (note: Firestore implicitly creates collections)\n",
    "- Utilize ```Establishment``` model for data loading"
   ]
  },
  {
   "cell_type": "code",
   "execution_count": 13,
   "id": "4cbf06f6",
   "metadata": {
    "ExecuteTime": {
     "end_time": "2021-05-24T16:23:17.408280Z",
     "start_time": "2021-05-24T16:23:16.829325Z"
    }
   },
   "outputs": [],
   "source": [
    "import firebase_admin\n",
    "from firebase_admin import credentials\n",
    "from firebase_admin import firestore\n",
    "\n",
    "from models import Establishment\n",
    "\n",
    "# Use a service account\n",
    "cred = credentials.Certificate('./drinkoutsidenyc-f825926aaa1f.json')\n",
    "firebase_admin.initialize_app(cred)\n",
    "\n",
    "db = firestore.client()"
   ]
  },
  {
   "cell_type": "code",
   "execution_count": 14,
   "id": "01d4167c",
   "metadata": {
    "ExecuteTime": {
     "end_time": "2021-05-24T16:23:17.765540Z",
     "start_time": "2021-05-24T16:23:17.410467Z"
    }
   },
   "outputs": [
    {
     "name": "stdout",
     "output_type": "stream",
     "text": [
      "update_time {\n",
      "  seconds: 1621636604\n",
      "  nanos: 455183000\n",
      "}\n",
      "\n"
     ]
    }
   ],
   "source": [
    "# Standard single load\n",
    "sample = Establishment(results[0])\n",
    "result = db.collection('establishments').document(sample._id).set(dict(sample))\n",
    "\n",
    "print(result)"
   ]
  },
  {
   "cell_type": "code",
   "execution_count": 15,
   "id": "cd883381",
   "metadata": {
    "ExecuteTime": {
     "end_time": "2021-05-24T16:23:18.513456Z",
     "start_time": "2021-05-24T16:23:17.768378Z"
    }
   },
   "outputs": [
    {
     "data": {
      "text/plain": [
       "10"
      ]
     },
     "execution_count": 15,
     "metadata": {},
     "output_type": "execute_result"
    }
   ],
   "source": [
    "# Batch load (initial database population)\n",
    "batch = db.batch()\n",
    "for r in results[:10]:\n",
    "    sample = Establishment(r)\n",
    "    ref = db.collection('establishments').document(sample._id)\n",
    "    batch.set(ref, dict(sample))\n",
    "\n",
    "result = batch.commit()\n",
    "len(result)"
   ]
  }
 ],
 "metadata": {
  "kernelspec": {
   "display_name": "nycdata",
   "language": "python",
   "name": "nycdata"
  },
  "language_info": {
   "codemirror_mode": {
    "name": "ipython",
    "version": 3
   },
   "file_extension": ".py",
   "mimetype": "text/x-python",
   "name": "python",
   "nbconvert_exporter": "python",
   "pygments_lexer": "ipython3",
   "version": "3.9.4"
  },
  "toc": {
   "base_numbering": 1,
   "nav_menu": {},
   "number_sections": false,
   "sideBar": true,
   "skip_h1_title": false,
   "title_cell": "Table of Contents",
   "title_sidebar": "Contents",
   "toc_cell": false,
   "toc_position": {},
   "toc_section_display": true,
   "toc_window_display": false
  }
 },
 "nbformat": 4,
 "nbformat_minor": 5
}
