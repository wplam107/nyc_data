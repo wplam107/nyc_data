{
 "cells": [
  {
   "cell_type": "markdown",
   "id": "0f3a5f0f",
   "metadata": {},
   "source": [
    "# Notebook Illustrating Initial Database ETL for Webapp\n",
    "- Database Creation and ETL: ```db.py```\n",
    "- NYC Open Data with Socrata (SODA API) for Drink Outside NYC Webapp\n",
    "- Google Cloud Maps Geocoding API "
   ]
  },
  {
   "cell_type": "markdown",
   "id": "e2d50d1f",
   "metadata": {},
   "source": [
    "## SODA API\n",
    "- Get API Token utilizing ```configparser```\n",
    "    - Config file as \"hidden\" ```.ini``` file\n",
    "- Create connection to Socrata with ```sodapy```\n",
    "    - Parameters: domain, API Token\n",
    "- Make SoQL query with ```sodapy```\n",
    "    - Dataset identifier: ```pitm-atqc```\n",
    "    - Only retrieve establishments with SLA License and sidewalk/openstreets/roadway seating"
   ]
  },
  {
   "cell_type": "code",
   "execution_count": 1,
   "id": "d4db8fdc",
   "metadata": {
    "ExecuteTime": {
     "end_time": "2021-05-20T21:58:54.105279Z",
     "start_time": "2021-05-20T21:58:53.939220Z"
    }
   },
   "outputs": [],
   "source": [
    "from sodapy import Socrata\n",
    "from configparser import ConfigParser"
   ]
  },
  {
   "cell_type": "code",
   "execution_count": 2,
   "id": "6e705d1e",
   "metadata": {
    "ExecuteTime": {
     "end_time": "2021-05-20T21:58:55.606278Z",
     "start_time": "2021-05-20T21:58:54.270793Z"
    }
   },
   "outputs": [
    {
     "name": "stdout",
     "output_type": "stream",
     "text": [
      "Number of establishments: 8406\n"
     ]
    }
   ],
   "source": [
    "# API Configuration\n",
    "config = ConfigParser()\n",
    "config.read('./.ini')\n",
    "TOKEN = config.get('Socrata', 'DRINK_NYC_TOKEN')\n",
    "\n",
    "# Connect to Socrata API\n",
    "client = Socrata('data.cityofnewyork.us', TOKEN)\n",
    "\n",
    "# Make query for establishments serving alcohol\n",
    "results = client.get('pitm-atqc', where='qualify_alcohol=\"yes\"', limit=50000)\n",
    "\n",
    "print('Number of establishments:', len(results))"
   ]
  },
  {
   "cell_type": "code",
   "execution_count": 3,
   "id": "2e7e35ed",
   "metadata": {
    "ExecuteTime": {
     "end_time": "2021-05-20T21:58:55.621954Z",
     "start_time": "2021-05-20T21:58:55.611599Z"
    }
   },
   "outputs": [
    {
     "name": "stdout",
     "output_type": "stream",
     "text": [
      "KARIZMA LOUNGE CORP\n"
     ]
    }
   ],
   "source": [
    "# Sample\n",
    "print(results[10]['doing_business_as_dba'])"
   ]
  },
  {
   "cell_type": "markdown",
   "id": "63674a21",
   "metadata": {},
   "source": [
    "## Google Cloud Map Platform (Geocoding)\n",
    "- Retrieve and merge missing latitude and longitude data onto ```results```"
   ]
  },
  {
   "cell_type": "code",
   "execution_count": 4,
   "id": "0276509a",
   "metadata": {
    "ExecuteTime": {
     "end_time": "2021-05-20T21:58:57.212318Z",
     "start_time": "2021-05-20T21:58:57.203562Z"
    }
   },
   "outputs": [
    {
     "name": "stdout",
     "output_type": "stream",
     "text": [
      "Number of establishments without geolocation: 877\n"
     ]
    }
   ],
   "source": [
    "# Create list of establishments without latitude/longitude\n",
    "missing_loc = [ r for r in results if 'latitude' not in r.keys() ]\n",
    "\n",
    "print('Number of establishments without geolocation:', len(missing_loc))"
   ]
  },
  {
   "cell_type": "code",
   "execution_count": 5,
   "id": "efc8027a",
   "metadata": {
    "ExecuteTime": {
     "end_time": "2021-05-20T21:59:00.743657Z",
     "start_time": "2021-05-20T21:59:00.740365Z"
    }
   },
   "outputs": [],
   "source": [
    "import requests"
   ]
  },
  {
   "cell_type": "code",
   "execution_count": 6,
   "id": "31797060",
   "metadata": {
    "ExecuteTime": {
     "end_time": "2021-05-20T21:59:02.048267Z",
     "start_time": "2021-05-20T21:59:02.043949Z"
    }
   },
   "outputs": [],
   "source": [
    "# Set maps API key\n",
    "MAPS_API_KEY = config.get('GCP', 'API_KEY')"
   ]
  },
  {
   "cell_type": "code",
   "execution_count": 29,
   "id": "40ebea02",
   "metadata": {
    "ExecuteTime": {
     "end_time": "2021-05-21T01:28:51.575968Z",
     "start_time": "2021-05-21T01:28:51.569085Z"
    }
   },
   "outputs": [],
   "source": [
    "def _get_lat_lng(address):\n",
    "    '''\n",
    "    Function to retrieve geolocation via Google Cloud Map Platform\n",
    "    '''\n",
    "    \n",
    "    base_url = 'https://maps.googleapis.com/maps/api/geocode/json?address='\n",
    "    address = '+'.join(address.split())\n",
    "    url = base_url + address + '&key=' + MAPS_API_KEY\n",
    "\n",
    "    r = requests.get(url)\n",
    "    \n",
    "    if r.status_code == 200:\n",
    "        result = r.json()\n",
    "        location = result['results'][0]['geometry']['location']\n",
    "        return location\n",
    "    \n",
    "    else:\n",
    "        return {'lat': None, 'lng': None}\n",
    "    \n",
    "def _merge_data(result):\n",
    "    '''\n",
    "    Function to retrieve and merge data onto establishment data \n",
    "    '''\n",
    "    \n",
    "    address = result['business_address']\n",
    "    location = _get_lat_lng(address)\n",
    "    \n",
    "    return location"
   ]
  },
  {
   "cell_type": "code",
   "execution_count": 30,
   "id": "74dca663",
   "metadata": {
    "ExecuteTime": {
     "end_time": "2021-05-21T01:30:12.372156Z",
     "start_time": "2021-05-21T01:30:11.941719Z"
    }
   },
   "outputs": [
    {
     "name": "stdout",
     "output_type": "stream",
     "text": [
      "***Pre-data merge***: {'objectid': '3681', 'globalid': '{d13ac929-c53d-4298-8d8e-282e91866dbf}', 'seating_interest_sidewalk': 'roadway', 'restaurant_name': 'Tufino Pizzeria Napoletana', 'legal_business_name': 'Tufino Pizzeria Napoletana inc.', 'doing_business_as_dba': 'Tufino Pizzeria Napoletana inc.', 'bulding_number': '3608 3610', 'street': 'Ditmars Blvd', 'borough': 'Queens', 'zip': '11105', 'business_address': '3608 3610 Ditmars Blvd , Queens, NY', 'food_service_establishment': '41696092', 'roadway_dimensions_length': '20', 'roadway_dimensions_width': '8', 'roadway_dimensions_area': '160', 'approved_for_sidewalk_seating': 'no', 'approved_for_roadway_seating': 'yes', 'qualify_alcohol': 'yes', 'sla_serial_number': '1302285', 'sla_license_type': 'OP', 'landmark_district_or_building': 'no', 'healthcompliance_terms': 'yes', 'time_of_submission': '2020-06-22T14:26:00.000'}\n",
      "------------------------------\n",
      "***Post-data merge***: {'objectid': '3681', 'globalid': '{d13ac929-c53d-4298-8d8e-282e91866dbf}', 'seating_interest_sidewalk': 'roadway', 'restaurant_name': 'Tufino Pizzeria Napoletana', 'legal_business_name': 'Tufino Pizzeria Napoletana inc.', 'doing_business_as_dba': 'Tufino Pizzeria Napoletana inc.', 'bulding_number': '3608 3610', 'street': 'Ditmars Blvd', 'borough': 'Queens', 'zip': '11105', 'business_address': '3608 3610 Ditmars Blvd , Queens, NY', 'food_service_establishment': '41696092', 'roadway_dimensions_length': '20', 'roadway_dimensions_width': '8', 'roadway_dimensions_area': '160', 'approved_for_sidewalk_seating': 'no', 'approved_for_roadway_seating': 'yes', 'qualify_alcohol': 'yes', 'sla_serial_number': '1302285', 'sla_license_type': 'OP', 'landmark_district_or_building': 'no', 'healthcompliance_terms': 'yes', 'time_of_submission': '2020-06-22T14:26:00.000', 'latitude': 40.7739751, 'longitude': -73.9079885}\n"
     ]
    }
   ],
   "source": [
    "# Sample\n",
    "sample = missing_loc[10]\n",
    "print('***Pre-data merge***:', sample)\n",
    "print('-' * 30)\n",
    "\n",
    "# Sample data retrieval and update\n",
    "address = sample['business_address']\n",
    "location = _merge_data(sample)\n",
    "sample['latitude'] = location['lat']\n",
    "sample['longitude'] = location['lng']\n",
    "print('***Post-data merge***:', sample)"
   ]
  },
  {
   "cell_type": "markdown",
   "id": "b8103298",
   "metadata": {},
   "source": [
    "## Data Cleaning / Transformation\n",
    "- Convert application submission string to datetime object\n",
    "- Remove irrelevant data\n",
    "- Create capacity estimates: 6'x6' per 4 person table with approx. 6' space between tables"
   ]
  },
  {
   "cell_type": "code",
   "execution_count": 15,
   "id": "840e657e",
   "metadata": {
    "ExecuteTime": {
     "end_time": "2021-05-21T01:17:22.999062Z",
     "start_time": "2021-05-21T01:17:22.996037Z"
    }
   },
   "outputs": [],
   "source": [
    "import math\n",
    "from datetime import datetime"
   ]
  },
  {
   "cell_type": "code",
   "execution_count": 28,
   "id": "83bcbce9",
   "metadata": {
    "ExecuteTime": {
     "end_time": "2021-05-21T01:27:42.373806Z",
     "start_time": "2021-05-21T01:27:42.365075Z"
    }
   },
   "outputs": [],
   "source": [
    "def _est_capacity(result):\n",
    "    '''\n",
    "    Function to create capacity estimates\n",
    "    '''\n",
    "    \n",
    "    sidewalk = result['outdoor_space']['sidewalk']\n",
    "    roadway = result['outdoor_space']['roadway']\n",
    "    capacity = 0\n",
    "    \n",
    "    if sidewalk['status']:\n",
    "        l = round(sidewalk['length'] / 6)\n",
    "        if l % 2 != 0:\n",
    "            l = math.floor(l / 2) + 1\n",
    "        else:\n",
    "            l = math.floor(l / 2)\n",
    "            \n",
    "        w = round(sidewalk['width'] / 6)\n",
    "        if w % 2 != 0:\n",
    "            w = math.floor(w / 2) + 1\n",
    "        else: \n",
    "            w = math.floor(w / 2)\n",
    "            \n",
    "        capacity += l * w * 4\n",
    "    \n",
    "    if roadway['status']:\n",
    "        l = round(roadway['length'] / 6)\n",
    "        if l % 2 != 0:\n",
    "            l = math.floor(l / 2) + 1\n",
    "        else:\n",
    "            l = math.floor(l / 2)\n",
    "            \n",
    "        w = round(roadway['width'] / 6)\n",
    "        if w % 2 != 0:\n",
    "            w = math.floor(w / 2) + 1\n",
    "        else: \n",
    "            w = math.floor(w / 2)\n",
    "            \n",
    "        capacity += l * w * 4\n",
    "        \n",
    "        return capacity"
   ]
  },
  {
   "cell_type": "code",
   "execution_count": 31,
   "id": "ed621dc6",
   "metadata": {
    "ExecuteTime": {
     "end_time": "2021-05-21T01:32:25.114925Z",
     "start_time": "2021-05-21T01:32:25.104337Z"
    }
   },
   "outputs": [],
   "source": [
    "def clean_for_transformation(result):\n",
    "    '''\n",
    "    Function to clean establishment data into objects ready for further transformation\n",
    "    '''\n",
    "    \n",
    "    if 'latitude' not in result.keys():\n",
    "        _merge_data(result)\n",
    "        \n",
    "    establishment = {\n",
    "        '_id': result['globalid'].strip('{}'),\n",
    "        'name': result['doing_business_as_dba'],\n",
    "        'address': result['business_address'],\n",
    "        'zip': result['zip'],\n",
    "        'license': result['sla_license_type'],\n",
    "        'tos': datetime.strptime(result['time_of_submission'], '%Y-%m-%dT%H:%M:%S.%f'),\n",
    "        'lat': float(result['latitude']),\n",
    "        'lng': float(result['longitude']),\n",
    "        'outdoor_space': {\n",
    "            'sidewalk': {'status': False},\n",
    "            'roadway': {'status': False},\n",
    "            'openstreets': {'status': False}\n",
    "        },\n",
    "    }\n",
    "    \n",
    "    if result['approved_for_sidewalk_seating'] == 'yes':\n",
    "        establishment['outdoor_space']['sidewalk']['status'] = True\n",
    "        establishment['outdoor_space']['sidewalk']['length'] = int(result['sidewalk_dimensions_length'])\n",
    "        establishment['outdoor_space']['sidewalk']['width'] = int(result['sidewalk_dimensions_width'])\n",
    "        \n",
    "    if result['approved_for_roadway_seating'] == 'yes':\n",
    "        establishment['outdoor_space']['roadway']['status'] = True\n",
    "        establishment['outdoor_space']['roadway']['length'] = int(result['roadway_dimensions_length'])\n",
    "        establishment['outdoor_space']['roadway']['width'] = int(result['roadway_dimensions_width'])\n",
    "        \n",
    "    if result['seating_interest_sidewalk'] == 'openstreets':\n",
    "        establishment['outdoor']['openstreets']['status'] = True\n",
    "    \n",
    "    establishment['est_capacity'] = _est_capacity(establishment)\n",
    "    \n",
    "    return establishment"
   ]
  },
  {
   "cell_type": "code",
   "execution_count": 32,
   "id": "74311874",
   "metadata": {
    "ExecuteTime": {
     "end_time": "2021-05-21T01:32:27.133848Z",
     "start_time": "2021-05-21T01:32:27.126883Z"
    }
   },
   "outputs": [
    {
     "data": {
      "text/plain": [
       "{'_id': 'F4FFE759-9440-444D-8301-D9674B698218',\n",
       " 'name': 'HERE ARTS CENTER',\n",
       " 'address': '145 AVENUE OF THE AMERICAS, Manhattan, NY',\n",
       " 'zip': '10013',\n",
       " 'license': 'RW',\n",
       " 'tos': datetime.datetime(2021, 4, 22, 14, 47),\n",
       " 'lat': 40.724971,\n",
       " 'lng': -74.004477,\n",
       " 'outdoor_space': {'sidewalk': {'status': False},\n",
       "  'roadway': {'status': True, 'length': 40, 'width': 6},\n",
       "  'openstreets': {'status': False}},\n",
       " 'est_capacity': 16}"
      ]
     },
     "execution_count": 32,
     "metadata": {},
     "output_type": "execute_result"
    }
   ],
   "source": [
    "# Sample\n",
    "sample = clean_for_transformation(results[0])\n",
    "sample"
   ]
  },
  {
   "cell_type": "code",
   "execution_count": null,
   "id": "ecf8a817",
   "metadata": {},
   "outputs": [],
   "source": []
  }
 ],
 "metadata": {
  "kernelspec": {
   "display_name": "nycdata",
   "language": "python",
   "name": "nycdata"
  },
  "language_info": {
   "codemirror_mode": {
    "name": "ipython",
    "version": 3
   },
   "file_extension": ".py",
   "mimetype": "text/x-python",
   "name": "python",
   "nbconvert_exporter": "python",
   "pygments_lexer": "ipython3",
   "version": "3.9.4"
  },
  "toc": {
   "base_numbering": 1,
   "nav_menu": {},
   "number_sections": false,
   "sideBar": true,
   "skip_h1_title": false,
   "title_cell": "Table of Contents",
   "title_sidebar": "Contents",
   "toc_cell": false,
   "toc_position": {},
   "toc_section_display": true,
   "toc_window_display": false
  }
 },
 "nbformat": 4,
 "nbformat_minor": 5
}
